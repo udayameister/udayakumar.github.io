{
  "nbformat": 4,
  "nbformat_minor": 0,
  "metadata": {
    "colab": {
      "provenance": [],
      "authorship_tag": "ABX9TyPapClbCsl4sCE3rhYMAdIN",
      "include_colab_link": true
    },
    "kernelspec": {
      "name": "python3",
      "display_name": "Python 3"
    },
    "language_info": {
      "name": "python"
    }
  },
  "cells": [
    {
      "cell_type": "markdown",
      "metadata": {
        "id": "view-in-github",
        "colab_type": "text"
      },
      "source": [
        "<a href=\"https://colab.research.google.com/github/udayameister/udayakumar.github.io/blob/main/LHStoRHS.ipynb\" target=\"_parent\"><img src=\"https://colab.research.google.com/assets/colab-badge.svg\" alt=\"Open In Colab\"/></a>"
      ]
    },
    {
      "cell_type": "code",
      "execution_count": 1,
      "metadata": {
        "colab": {
          "base_uri": "https://localhost:8080/"
        },
        "id": "GogADYCAHzbx",
        "outputId": "d477555c-2b1e-4e72-ce22-258f23310dd1"
      },
      "outputs": [
        {
          "output_type": "stream",
          "name": "stdout",
          "text": [
            "Result: 904596\n"
          ]
        }
      ],
      "source": [
        "def compute_formula(k, l, q, n):\n",
        "    def summation(p_max, r, s, t):\n",
        "        return sum(q ** (r + s + t) for p in range(1, p_max + 1))\n",
        "\n",
        "    result = (\n",
        "        q**3 * (q - 1)**3 * l * (k - l * summation(1, 1, 1, 1))**3\n",
        "        + (3 * q**6 - (2 * n + 6) * q**5 + (4 * n + 5) * q**4 - 2 * q**3 - (4 * n + 2) * q**2 + 2 * n * q) * l**2 * (k - l * summation(1, 1, 1, 1))**2\n",
        "        + (3 * q**6 - (3 * n + 3) * q**5 + (4 * n + 2) * q**4 + (n**2 + 3 * n - 3) * q**3 - (3 * n**2 + 5 * n + 4) * q**2 + 4 * n * q + (n + 1)**2) * l**3 * (k - l * summation(1, 1, 1, 1))\n",
        "        + (q**6 + 2 * n * q**5 + 2 * q**4 + (2 * n + 2) * q**3 - (n**2 + n) * q**2 + (n**2 + 2 * n + 3) * q) * l**4\n",
        "    )\n",
        "\n",
        "    return result\n",
        "\n",
        "k = 52\n",
        "l = 3\n",
        "q = 2\n",
        "n = 1\n",
        "\n",
        "result = compute_formula(k, l, q, n)\n",
        "print(\"Result:\", result)\n"
      ]
    },
    {
      "cell_type": "code",
      "source": [
        "def summation(p_max, q, r, s, t):\n",
        "    return sum(q ** (r + s + t) for p in range(1, p_max + 1))\n",
        "\n",
        "def compute_lhs(k, l, q, n):\n",
        "    term1 = q**3 * (q - 1)**3 * l * (k - l * summation(1, q, 1, 1, 1))**3\n",
        "    term2 = (3 * q**6 - (2 * n + 6) * q**5 + (4 * n + 5) * q**4 - 2 * q**3 - (4 * n + 2) * q**2 + 2 * n * q) * l**2 * (k - l * summation(1, q, 1, 1, 1))**2\n",
        "    term3 = (3 * q**6 - (3 * n + 3) * q**5 + (4 * n + 2) * q**4 + (n**2 + 3 * n - 3) * q**3 - (3 * n**2 + 5 * n + 4) * q**2 + 4 * n * q + (n + 1)**2) * l**3 * (k - l * summation(1, q, 1, 1, 1))\n",
        "    term4 = (q**6 + 2 * n * q**5 + 2 * q**4 + (2 * n + 2) * q**3 - (n**2 + n) * q**2 + (n**2 + 2 * n + 3) * q) * l**4\n",
        "\n",
        "    lhs = term1 + term2 + term3 + term4\n",
        "    return lhs\n",
        "\n",
        "def compute_rhs(k, l, n):\n",
        "    return ((k + n * l) / (k + (n + 1) * l)) - 3\n",
        "\n",
        "def verify_formula(k, l, q, n):\n",
        "    lhs = compute_lhs(k, l, q, n)\n",
        "    rhs = compute_rhs(k, l, n)\n",
        "    return lhs == rhs, lhs, rhs\n",
        "\n",
        "k = 52\n",
        "l = 3\n",
        "q = 2\n",
        "n = 1\n",
        "\n",
        "is_equal, lhs, rhs = verify_formula(k, l, q, n)\n",
        "\n",
        "print(\"LHS:\", lhs)\n",
        "print(\"RHS:\", rhs)\n",
        "print(\"LHS equals RHS:\", is_equal)\n"
      ],
      "metadata": {
        "colab": {
          "base_uri": "https://localhost:8080/"
        },
        "id": "aMfV33YMIXWK",
        "outputId": "f6f3bb17-57bb-4c56-a837-788fcb60568d"
      },
      "execution_count": 2,
      "outputs": [
        {
          "output_type": "stream",
          "name": "stdout",
          "text": [
            "LHS: 904596\n",
            "RHS: -2.0517241379310347\n",
            "LHS equals RHS: False\n"
          ]
        }
      ]
    }
  ]
}