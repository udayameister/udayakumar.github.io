{
  "cells": [
    {
      "cell_type": "markdown",
      "metadata": {
        "id": "view-in-github",
        "colab_type": "text"
      },
      "source": [
        "<a href=\"https://colab.research.google.com/github/udayameister/udayakumar.github.io/blob/main/LOAD_HCP_DATA.ipynb\" target=\"_parent\"><img src=\"https://colab.research.google.com/assets/colab-badge.svg\" alt=\"Open In Colab\"/></a>"
      ]
    },
    {
      "cell_type": "code",
      "execution_count": null,
      "metadata": {
        "colab": {
          "base_uri": "https://localhost:8080/",
          "height": 418
        },
        "id": "8fNqfAO7BP-B",
        "outputId": "6ceae0b7-4bdd-4ad2-f62c-0b70e4bc8f56"
      },
      "outputs": [
        {
          "name": "stdout",
          "output_type": "stream",
          "text": [
            "Looking in indexes: https://pypi.org/simple, https://us-python.pkg.dev/colab-wheels/public/simple/\n",
            "Collecting matplotlib==3.4.2\n",
            "  Downloading matplotlib-3.4.2-cp38-cp38-manylinux1_x86_64.whl (10.3 MB)\n",
            "\u001b[2K     \u001b[90m━━━━━━━━━━━━━━━━━━━━━━━━━━━━━━━━━━━━━━━━\u001b[0m \u001b[32m10.3/10.3 MB\u001b[0m \u001b[31m67.3 MB/s\u001b[0m eta \u001b[36m0:00:00\u001b[0m\n",
            "\u001b[?25hRequirement already satisfied: pillow>=6.2.0 in /usr/local/lib/python3.8/dist-packages (from matplotlib==3.4.2) (7.1.2)\n",
            "Requirement already satisfied: kiwisolver>=1.0.1 in /usr/local/lib/python3.8/dist-packages (from matplotlib==3.4.2) (1.4.4)\n",
            "Requirement already satisfied: numpy>=1.16 in /usr/local/lib/python3.8/dist-packages (from matplotlib==3.4.2) (1.21.6)\n",
            "Requirement already satisfied: python-dateutil>=2.7 in /usr/local/lib/python3.8/dist-packages (from matplotlib==3.4.2) (2.8.2)\n",
            "Requirement already satisfied: pyparsing>=2.2.1 in /usr/local/lib/python3.8/dist-packages (from matplotlib==3.4.2) (3.0.9)\n",
            "Requirement already satisfied: cycler>=0.10 in /usr/local/lib/python3.8/dist-packages (from matplotlib==3.4.2) (0.11.0)\n",
            "Requirement already satisfied: six>=1.5 in /usr/local/lib/python3.8/dist-packages (from python-dateutil>=2.7->matplotlib==3.4.2) (1.15.0)\n",
            "Installing collected packages: matplotlib\n",
            "  Attempting uninstall: matplotlib\n",
            "    Found existing installation: matplotlib 3.2.2\n",
            "    Uninstalling matplotlib-3.2.2:\n",
            "      Successfully uninstalled matplotlib-3.2.2\n",
            "Successfully installed matplotlib-3.4.2\n"
          ]
        },
        {
          "data": {
            "application/vnd.colab-display-data+json": {
              "pip_warning": {
                "packages": [
                  "matplotlib",
                  "mpl_toolkits"
                ]
              }
            }
          },
          "metadata": {},
          "output_type": "display_data"
        }
      ],
      "source": [
        "# @title Install dependencies\n",
        "!pip3 install matplotlib==3.4.2\n",
        "!pip install nilearn --quiet"
      ]
    },
    {
      "cell_type": "code",
      "execution_count": null,
      "metadata": {
        "id": "QnmezcNpBfha"
      },
      "outputs": [],
      "source": [
        "import os\n",
        "import numpy as np\n",
        "import matplotlib.pyplot as plt\n",
        "\n",
        "# Necessary for visualization\n",
        "from nilearn import plotting, datasets"
      ]
    },
    {
      "cell_type": "markdown",
      "metadata": {
        "id": "gXiflSzVCETy"
      },
      "source": [
        "Basic parameters"
      ]
    },
    {
      "cell_type": "code",
      "execution_count": null,
      "metadata": {
        "id": "N9LKL-heCFBR"
      },
      "outputs": [],
      "source": [
        "# The download cells will store the data in nested directories starting here:\n",
        "HCP_DIR = \"./DATA\"\n",
        "if not os.path.isdir(HCP_DIR):\n",
        "  os.mkdir(HCP_DIR)\n",
        "\n",
        "# The data shared for NMA projects is a subset of the full HCP dataset\n",
        "N_SUBJECTS = 339\n",
        "\n",
        "# The data have already been aggregated into ROIs from the Glasesr parcellation\n",
        "N_PARCELS = 360\n",
        "\n",
        "# The acquisition parameters for all tasks were identical\n",
        "TR = 0.72  # Time resolution, in sec\n",
        "\n",
        "# The parcels are matched across hemispheres with the same order\n",
        "HEMIS = [\"Right\", \"Left\"]\n",
        "\n",
        "# Each experiment was repeated multiple times in each subject\n",
        "N_RUNS_REST = 4\n",
        "N_RUNS_TASK = 2\n",
        "\n",
        "# Time series data are organized by experiment, with each experiment\n",
        "# having an LR and RL (phase-encode direction) acquistion\n",
        "BOLD_NAMES = [\n",
        "  \"rfMRI_REST1_LR\", \"rfMRI_REST1_RL\",\n",
        "  \"rfMRI_REST2_LR\", \"rfMRI_REST2_RL\",\n",
        "  \"tfMRI_MOTOR_RL\", \"tfMRI_MOTOR_LR\",\n",
        "  \"tfMRI_WM_RL\", \"tfMRI_WM_LR\",\n",
        "  \"tfMRI_EMOTION_RL\", \"tfMRI_EMOTION_LR\",\n",
        "  \"tfMRI_GAMBLING_RL\", \"tfMRI_GAMBLING_LR\",\n",
        "  \"tfMRI_LANGUAGE_RL\", \"tfMRI_LANGUAGE_LR\",\n",
        "  \"tfMRI_RELATIONAL_RL\", \"tfMRI_RELATIONAL_LR\",\n",
        "  \"tfMRI_SOCIAL_RL\", \"tfMRI_SOCIAL_LR\"\n",
        "]\n",
        "\n",
        "# You may want to limit the subjects used during code development.\n",
        "# This will use all subjects:\n",
        "subjects = range(N_SUBJECTS)"
      ]
    },
    {
      "cell_type": "markdown",
      "metadata": {
        "id": "RPv1w2diCWxY"
      },
      "source": [
        "Downloading data"
      ]
    },
    {
      "cell_type": "markdown",
      "metadata": {
        "id": "Xx8N97oVCXtZ"
      },
      "source": [
        "Download the data\n"
      ]
    },
    {
      "cell_type": "code",
      "execution_count": null,
      "metadata": {
        "colab": {
          "base_uri": "https://localhost:8080/"
        },
        "id": "wDkVb1GZCdGY",
        "outputId": "a8cea512-6d82-41b0-b4c6-fd2994791beb"
      },
      "outputs": [
        {
          "name": "stdout",
          "output_type": "stream",
          "text": [
            "Downloading hcp_rest.tgz...\n",
            "Download hcp_rest.tgz completed!\n",
            "Downloading hcp_task.tgz...\n",
            "Download hcp_task.tgz completed!\n",
            "Downloading hcp_covariates.tgz...\n",
            "Download hcp_covariates.tgz completed!\n",
            "Downloading atlas.npz...\n",
            "Download atlas.npz completed!\n"
          ]
        }
      ],
      "source": [
        "# @title Download the data\n",
        "\n",
        "# @markdown Task data in `HCP_DIR/hcp_task`, rest in `HCP_DIR/hcp_rest`, covariate in `HCP_DIR/hcp`\n",
        "\n",
        "import os, requests, tarfile\n",
        "\n",
        "fnames = [\"hcp_rest.tgz\",\n",
        "          \"hcp_task.tgz\",\n",
        "          \"hcp_covariates.tgz\",\n",
        "          \"atlas.npz\"]\n",
        "urls = [\"https://osf.io/bqp7m/download\",\n",
        "        \"https://osf.io/s4h8j/download\",\n",
        "        \"https://osf.io/x5p4g/download\",\n",
        "        \"https://osf.io/j5kuc/download\"]\n",
        "\n",
        "for fname, url in zip(fnames, urls):\n",
        "  if not os.path.isfile(fname):\n",
        "    try:\n",
        "      r = requests.get(url)\n",
        "    except requests.ConnectionError:\n",
        "      print(\"!!! Failed to download data !!!\")\n",
        "    else:\n",
        "      if r.status_code != requests.codes.ok:\n",
        "        print(\"!!! Failed to download data !!!\")\n",
        "      else:\n",
        "        print(f\"Downloading {fname}...\")\n",
        "        with open(fname, \"wb\") as fid:\n",
        "          fid.write(r.content)\n",
        "        print(f\"Download {fname} completed!\")"
      ]
    },
    {
      "cell_type": "markdown",
      "metadata": {
        "id": "tTwKkBADC-hg"
      },
      "source": [
        "Extract the data in HCP_DIR"
      ]
    },
    {
      "cell_type": "code",
      "execution_count": null,
      "metadata": {
        "colab": {
          "base_uri": "https://localhost:8080/"
        },
        "id": "F7-ZGxzEDA2Q",
        "outputId": "a06c39ff-3f96-4933-fdad-db8dad7d2533"
      },
      "outputs": [
        {
          "name": "stdout",
          "output_type": "stream",
          "text": [
            "Extracting hcp_covariates.tgz...\n",
            "Extracting hcp_rest.tgz...\n",
            "Extracting hcp_task.tgz...\n"
          ]
        }
      ],
      "source": [
        "# @title Extract the data in `HCP_DIR`\n",
        "fnames = [\"hcp_covariates\", \"hcp_rest\", \"hcp_task\"]\n",
        "\n",
        "for fname in fnames:\n",
        "  # open file\n",
        "  path_name = os.path.join(HCP_DIR, fname)\n",
        "  if not os.path.exists(path_name):\n",
        "    print(f\"Extracting {fname}.tgz...\")\n",
        "    with tarfile.open(f\"{fname}.tgz\") as fzip:\n",
        "      fzip.extractall(HCP_DIR)\n",
        "  else:\n",
        "    print(f\"File {fname}.tgz has already been extracted.\")"
      ]
    },
    {
      "cell_type": "markdown",
      "metadata": {
        "id": "hfibzQBxEBk3"
      },
      "source": [
        "Loading region information\n"
      ]
    },
    {
      "cell_type": "code",
      "execution_count": null,
      "metadata": {
        "colab": {
          "base_uri": "https://localhost:8080/"
        },
        "id": "Yj8t2CFCEDBO",
        "outputId": "bb008096-9b67-4c54-b73e-420dfd299d75"
      },
      "outputs": [
        {
          "name": "stderr",
          "output_type": "stream",
          "text": [
            "<ipython-input-5-91fec36ea2b2>:5: DeprecationWarning: `np.float` is a deprecated alias for the builtin `float`. To silence this warning, use `float` by itself. Doing this will not modify any behavior and is safe. If you specifically wanted the numpy scalar type, use `np.float64` here.\n",
            "Deprecated in NumPy 1.20; for more details and guidance: https://numpy.org/devdocs/release/1.20.0-notes.html#deprecations\n",
            "  myelin=regions[2].astype(np.float)\n"
          ]
        }
      ],
      "source": [
        "dir = os.path.join(HCP_DIR, \"hcp_task\")  # choose the data directory\n",
        "regions = np.load(os.path.join(dir, \"regions.npy\")).T\n",
        "region_info = dict(name=regions[0].tolist(),\n",
        "                   network=regions[1],\n",
        "                   myelin=regions[2].astype(np.float)\n",
        "                   )"
      ]
    },
    {
      "cell_type": "code",
      "execution_count": null,
      "metadata": {
        "id": "3GquAMpqE0TN"
      },
      "outputs": [],
      "source": [
        "with np.load(f\"atlas.npz\") as dobj:\n",
        "  atlas = dict(**dobj)"
      ]
    },
    {
      "cell_type": "markdown",
      "metadata": {
        "id": "pIKEgxRrE3cz"
      },
      "source": [
        "Helper functions\n"
      ]
    },
    {
      "cell_type": "markdown",
      "metadata": {
        "id": "A8VmAr6kE5j1"
      },
      "source": [
        "Data loading"
      ]
    },
    {
      "cell_type": "code",
      "execution_count": null,
      "metadata": {
        "id": "N--NI2LcE6G1"
      },
      "outputs": [],
      "source": [
        "def get_image_ids(name):\n",
        "  \"\"\"Get the 1-based image indices for runs in a given experiment.\n",
        "\n",
        "    Args:\n",
        "      name (str) : Name of experiment (\"rest\" or name of task) to load\n",
        "    Returns:\n",
        "      run_ids (list of int) : Numeric ID for experiment image files\n",
        "\n",
        "  \"\"\"\n",
        "  run_ids = [\n",
        "             i for i, code in enumerate(BOLD_NAMES, 1) if name.upper() in code\n",
        "             ]\n",
        "  if not run_ids:\n",
        "    raise ValueError(f\"Found no data for '{name}'\")\n",
        "  return run_ids\n",
        "\n",
        "\n",
        "def load_timeseries(subject, name, dir,\n",
        "                    runs=None, concat=True, remove_mean=True):\n",
        "  \"\"\"Load timeseries data for a single subject.\n",
        "\n",
        "  Args:\n",
        "    subject (int): 0-based subject ID to load\n",
        "    name (str) : Name of experiment (\"rest\" or name of task) to load\n",
        "    dir (str) : data directory\n",
        "    run (None or int or list of ints): 0-based run(s) of the task to load,\n",
        "      or None to load all runs.\n",
        "    concat (bool) : If True, concatenate multiple runs in time\n",
        "    remove_mean (bool) : If True, subtract the parcel-wise mean\n",
        "\n",
        "  Returns\n",
        "    ts (n_parcel x n_tp array): Array of BOLD data values\n",
        "\n",
        "  \"\"\"\n",
        "  # Get the list relative 0-based index of runs to use\n",
        "  if runs is None:\n",
        "    runs = range(N_RUNS_REST) if name == \"rest\" else range(N_RUNS_TASK)\n",
        "  elif isinstance(runs, int):\n",
        "    runs = [runs]\n",
        "\n",
        "  # Get the first (1-based) run id for this experiment\n",
        "  offset = get_image_ids(name)[0]\n",
        "\n",
        "  # Load each run's data\n",
        "  bold_data = [\n",
        "               load_single_timeseries(subject,\n",
        "                                      offset + run,\n",
        "                                      dir,\n",
        "                                      remove_mean) for run in runs\n",
        "               ]\n",
        "\n",
        "  # Optionally concatenate in time\n",
        "  if concat:\n",
        "    bold_data = np.concatenate(bold_data, axis=-1)\n",
        "\n",
        "  return bold_data\n",
        "\n",
        "\n",
        "def load_single_timeseries(subject, bold_run, dir, remove_mean=True):\n",
        "  \"\"\"Load timeseries data for a single subject and single run.\n",
        "\n",
        "  Args:\n",
        "    subject (int): 0-based subject ID to load\n",
        "    bold_run (int): 1-based run index, across all tasks\n",
        "    dir (str) : data directory\n",
        "    remove_mean (bool): If True, subtract the parcel-wise mean\n",
        "\n",
        "  Returns\n",
        "    ts (n_parcel x n_timepoint array): Array of BOLD data values\n",
        "\n",
        "  \"\"\"\n",
        "  bold_path = os.path.join(dir, \"subjects\", str(subject), \"timeseries\")\n",
        "  bold_file = f\"bold{bold_run}_Atlas_MSMAll_Glasser360Cortical.npy\"\n",
        "  ts = np.load(os.path.join(bold_path, bold_file))\n",
        "  if remove_mean:\n",
        "    ts -= ts.mean(axis=1, keepdims=True)\n",
        "  return ts\n",
        "\n",
        "\n",
        "def load_evs(subject, name, condition, dir):\n",
        "  \"\"\"Load EV (explanatory variable) data for one task condition.\n",
        "\n",
        "  Args:\n",
        "    subject (int): 0-based subject ID to load\n",
        "    name (str) : Name of task\n",
        "    condition (str) : Name of condition\n",
        "    dir (str) : data directory\n",
        "\n",
        "  Returns\n",
        "    evs (list of dicts): A dictionary with the onset, duration, and amplitude\n",
        "      of the condition for each run.\n",
        "\n",
        "  \"\"\"\n",
        "  evs = []\n",
        "  for id in get_image_ids(name):\n",
        "    task_key = BOLD_NAMES[id - 1]\n",
        "    ev_file = os.path.join(dir, \"subjects\", str(subject), \"EVs\",\n",
        "                           task_key, f\"{condition}.txt\")\n",
        "    ev_array = np.loadtxt(ev_file, ndmin=2, unpack=True)\n",
        "    ev = dict(zip([\"onset\", \"duration\", \"amplitude\"], ev_array))\n",
        "    evs.append(ev)\n",
        "  return evs"
      ]
    },
    {
      "cell_type": "markdown",
      "metadata": {
        "id": "IH3zyCezFbiK"
      },
      "source": [
        "Task-based analysis"
      ]
    },
    {
      "cell_type": "code",
      "execution_count": null,
      "metadata": {
        "id": "ZusAzHL-FcIq"
      },
      "outputs": [],
      "source": [
        "def condition_frames(run_evs, skip=0):\n",
        "  \"\"\"Identify timepoints corresponding to a given condition in each run.\n",
        "\n",
        "  Args:\n",
        "    run_evs (list of dicts) : Onset and duration of the event, per run\n",
        "    skip (int) : Ignore this many frames at the start of each trial, to account\n",
        "      for hemodynamic lag\n",
        "\n",
        "  Returns:\n",
        "    frames_list (list of 1D arrays): Flat arrays of frame indices, per run\n",
        "\n",
        "  \"\"\"\n",
        "  frames_list = []\n",
        "  for ev in run_evs:\n",
        "\n",
        "    # Determine when trial starts, rounded down\n",
        "    start = np.floor(ev[\"onset\"] / TR).astype(int)\n",
        "\n",
        "    # Use trial duration to determine how many frames to include for trial\n",
        "    duration = np.ceil(ev[\"duration\"] / TR).astype(int)\n",
        "\n",
        "    # Take the range of frames that correspond to this specific trial\n",
        "    frames = [s + np.arange(skip, d) for s, d in zip(start, duration)]\n",
        "\n",
        "    frames_list.append(np.concatenate(frames))\n",
        "\n",
        "  return frames_list\n",
        "\n",
        "\n",
        "def selective_average(timeseries_data, ev, skip=0):\n",
        "  \"\"\"Take the temporal mean across frames for a given condition.\n",
        "\n",
        "  Args:\n",
        "    timeseries_data (array or list of arrays): n_parcel x n_tp arrays\n",
        "    ev (dict or list of dicts): Condition timing information\n",
        "    skip (int) : Ignore this many frames at the start of each trial, to account\n",
        "      for hemodynamic lag\n",
        "\n",
        "  Returns:\n",
        "    avg_data (1D array): Data averagted across selected image frames based\n",
        "    on condition timing\n",
        "\n",
        "  \"\"\"\n",
        "  # Ensure that we have lists of the same length\n",
        "  if not isinstance(timeseries_data, list):\n",
        "    timeseries_data = [timeseries_data]\n",
        "  if not isinstance(ev, list):\n",
        "    ev = [ev]\n",
        "  if len(timeseries_data) != len(ev):\n",
        "    raise ValueError(\"Length of `timeseries_data` and `ev` must match.\")\n",
        "\n",
        "  # Identify the indices of relevant frames\n",
        "  frames = condition_frames(ev, skip)\n",
        "\n",
        "  # Select the frames from each image\n",
        "  selected_data = []\n",
        "  for run_data, run_frames in zip(timeseries_data, frames):\n",
        "    run_frames = run_frames[run_frames < run_data.shape[1]]\n",
        "    selected_data.append(run_data[:, run_frames])\n",
        "\n",
        "  # Take the average in each parcel\n",
        "  avg_data = np.concatenate(selected_data, axis=-1).mean(axis=-1)\n",
        "\n",
        "  return avg_data"
      ]
    },
    {
      "cell_type": "markdown",
      "metadata": {
        "id": "s5XlPUIpFgON"
      },
      "source": [
        "Resting-state analyses"
      ]
    },
    {
      "cell_type": "code",
      "execution_count": null,
      "metadata": {
        "colab": {
          "base_uri": "https://localhost:8080/"
        },
        "id": "ABEQcZwpFj0F",
        "outputId": "ca65d0a5-aa26-46e3-ab7f-20568573d2b1"
      },
      "outputs": [
        {
          "name": "stdout",
          "output_type": "stream",
          "text": [
            "Help on function load_timeseries in module __main__:\n",
            "\n",
            "load_timeseries(subject, name, dir, runs=None, concat=True, remove_mean=True)\n",
            "    Load timeseries data for a single subject.\n",
            "    \n",
            "    Args:\n",
            "      subject (int): 0-based subject ID to load\n",
            "      name (str) : Name of experiment (\"rest\" or name of task) to load\n",
            "      dir (str) : data directory\n",
            "      run (None or int or list of ints): 0-based run(s) of the task to load,\n",
            "        or None to load all runs.\n",
            "      concat (bool) : If True, concatenate multiple runs in time\n",
            "      remove_mean (bool) : If True, subtract the parcel-wise mean\n",
            "    \n",
            "    Returns\n",
            "      ts (n_parcel x n_tp array): Array of BOLD data values\n",
            "\n"
          ]
        }
      ],
      "source": [
        "help(load_timeseries)"
      ]
    },
    {
      "cell_type": "code",
      "execution_count": null,
      "metadata": {
        "colab": {
          "base_uri": "https://localhost:8080/"
        },
        "id": "wVCrNslvFm89",
        "outputId": "a63c3b44-a493-4481-a7c0-18b7a5232db1"
      },
      "outputs": [
        {
          "name": "stdout",
          "output_type": "stream",
          "text": [
            "(360, 1200)\n"
          ]
        }
      ],
      "source": [
        "timeseries = load_timeseries(subject=0,\n",
        "                             name=\"rest\",\n",
        "                             dir=os.path.join(HCP_DIR, \"hcp_rest\"),\n",
        "                             runs=1)\n",
        "print(timeseries.shape)  # n_parcel x n_timepoint"
      ]
    },
    {
      "cell_type": "code",
      "execution_count": null,
      "metadata": {
        "id": "H7m56A9MFqgm"
      },
      "outputs": [],
      "source": [
        "timeseries_rest = []\n",
        "for subject in subjects:\n",
        "  ts_concat = load_timeseries(subject, name=\"rest\",\n",
        "                              dir=os.path.join(HCP_DIR, \"hcp_rest\"))\n",
        "  timeseries_rest.append(ts_concat)"
      ]
    },
    {
      "cell_type": "markdown",
      "metadata": {
        "id": "V1Y8SVg3GrST"
      },
      "source": [
        "Run a simple correlation-based \"functional connectivity\" analysis"
      ]
    },
    {
      "cell_type": "code",
      "execution_count": null,
      "metadata": {
        "colab": {
          "background_save": true
        },
        "id": "gzVMKz__Gws7",
        "outputId": "76f80dd8-5da6-435f-82bc-4064af4e8481"
      },
      "outputs": [
        {
          "data": {
            "image/png": "[encoded data removed]",
            "text/plain": [
              "<Figure size 432x288 with 2 Axes>"
            ]
          },
          "metadata": {},
          "output_type": "display_data"
        }
      ],
      "source": [
        "fc = np.zeros((N_SUBJECTS, N_PARCELS, N_PARCELS))\n",
        "for sub, ts in enumerate(timeseries_rest):\n",
        "  fc[sub] = np.corrcoef(ts)\n",
        "\n",
        "group_fc = fc.mean(axis=0)\n",
        "\n",
        "plt.figure()\n",
        "plt.imshow(group_fc, interpolation=\"none\", cmap=\"bwr\", vmin=-1, vmax=1)\n",
        "plt.colorbar()\n",
        "plt.show()"
      ]
    }
  ],
  "metadata": {
    "colab": {
      "provenance": [],
      "authorship_tag": "ABX9TyN2h5a0cU/dP7PZ+BQKdn8y",
      "include_colab_link": true
    },
    "kernelspec": {
      "display_name": "Python 3",
      "name": "python3"
    },
    "language_info": {
      "name": "python"
    }
  },
  "nbformat": 4,
  "nbformat_minor": 0
}